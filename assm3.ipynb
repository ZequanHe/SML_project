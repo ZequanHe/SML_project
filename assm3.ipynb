{
 "cells": [
  {
   "cell_type": "code",
   "execution_count": 106,
   "id": "466f2f38",
   "metadata": {},
   "outputs": [],
   "source": [
    "import json\n",
    "import numpy as np\n",
    "import tensorflow as tf\n",
    "from tensorflow.keras.layers import Dense,Dropout\n",
    "from tensorflow.keras.models import Sequential\n",
    "from sklearn.metrics import f1_score\n",
    "from sklearn.model_selection import train_test_split\n",
    "#pip3 install bpmll\n",
    "#using bpmll in the loss\n",
    "from bpmll import bp_mll_loss\n",
    "from sklearn.preprocessing import MinMaxScaler,StandardScaler\n",
    "import pandas as pd"
   ]
  },
  {
   "cell_type": "code",
   "execution_count": 2,
   "id": "f8d84ea3",
   "metadata": {},
   "outputs": [],
   "source": [
    "train_data = json.load(open('train.json'))"
   ]
  },
  {
   "cell_type": "code",
   "execution_count": 3,
   "id": "8726b12f",
   "metadata": {},
   "outputs": [
    {
     "data": {
      "text/plain": [
       "dict_keys(['authors', 'year', 'abstract', 'venue', 'title'])"
      ]
     },
     "execution_count": 3,
     "metadata": {},
     "output_type": "execute_result"
    }
   ],
   "source": [
    "train_data[0].keys()"
   ]
  },
  {
   "cell_type": "code",
   "execution_count": 4,
   "id": "6f81c112",
   "metadata": {},
   "outputs": [
    {
     "data": {
      "text/plain": [
       "{'authors': [42, 13720, 36],\n",
       " 'year': 9,\n",
       " 'abstract': [2455,\n",
       "  1858,\n",
       "  2335,\n",
       "  1543,\n",
       "  1800,\n",
       "  1860,\n",
       "  2000,\n",
       "  2867,\n",
       "  1546,\n",
       "  1874,\n",
       "  2059,\n",
       "  1525,\n",
       "  2590,\n",
       "  4196,\n",
       "  12,\n",
       "  2634,\n",
       "  1543,\n",
       "  1800,\n",
       "  1586,\n",
       "  2866,\n",
       "  3595,\n",
       "  1866,\n",
       "  1670,\n",
       "  2000,\n",
       "  3743,\n",
       "  1542,\n",
       "  1650,\n",
       "  1527,\n",
       "  33,\n",
       "  4407,\n",
       "  1543,\n",
       "  1535,\n",
       "  1962,\n",
       "  1961,\n",
       "  1543,\n",
       "  33,\n",
       "  1700,\n",
       "  1543,\n",
       "  1535,\n",
       "  1647,\n",
       "  1546,\n",
       "  1580,\n",
       "  4720,\n",
       "  12,\n",
       "  1731,\n",
       "  4231,\n",
       "  2601,\n",
       "  1553,\n",
       "  1704,\n",
       "  1605,\n",
       "  2456,\n",
       "  1543,\n",
       "  3281,\n",
       "  1594,\n",
       "  4407,\n",
       "  2168,\n",
       "  1542,\n",
       "  1586,\n",
       "  3781,\n",
       "  2471,\n",
       "  1525,\n",
       "  1859,\n",
       "  1669,\n",
       "  2512,\n",
       "  4572,\n",
       "  1546,\n",
       "  1609,\n",
       "  3781,\n",
       "  2471,\n",
       "  1525,\n",
       "  3393,\n",
       "  12,\n",
       "  37,\n",
       "  1712,\n",
       "  1586,\n",
       "  4196,\n",
       "  1650,\n",
       "  1527,\n",
       "  3281,\n",
       "  1594,\n",
       "  4407,\n",
       "  1800,\n",
       "  4708,\n",
       "  1904,\n",
       "  2059,\n",
       "  2411,\n",
       "  12],\n",
       " 'venue': 20,\n",
       " 'title': [41,\n",
       "  1550,\n",
       "  1563,\n",
       "  1594,\n",
       "  1544,\n",
       "  1919,\n",
       "  1644,\n",
       "  37,\n",
       "  1539,\n",
       "  1715,\n",
       "  1553,\n",
       "  1541,\n",
       "  1536,\n",
       "  1532,\n",
       "  1872,\n",
       "  1538]}"
      ]
     },
     "execution_count": 4,
     "metadata": {},
     "output_type": "execute_result"
    }
   ],
   "source": [
    "train_data[0]"
   ]
  },
  {
   "cell_type": "code",
   "execution_count": 77,
   "id": "15600f96",
   "metadata": {},
   "outputs": [],
   "source": [
    "#take the author out \n",
    "label_au = []\n",
    "for i,d in enumerate(train_data):\n",
    "    author = np.array(d['authors'])\n",
    "    author_100 = author[author<100]\n",
    "    #length is 101, put the author number which greater than 100 in the last one in the array \n",
    "    au_range = np.zeros(101)\n",
    "    if len(author_100) == 0:\n",
    "        au_range[-1] = 1 \n",
    "    else:\n",
    "        au_range[author_100] = 1\n",
    "    label_au.append(au_range)"
   ]
  },
  {
   "cell_type": "code",
   "execution_count": 82,
   "id": "33e9d683",
   "metadata": {},
   "outputs": [],
   "source": [
    "author_label_train = np.array(label_au)"
   ]
  },
  {
   "cell_type": "code",
   "execution_count": 8,
   "id": "13c2d3ae",
   "metadata": {},
   "outputs": [],
   "source": [
    "# label the title \n",
    "label_title = []\n",
    "for cont in train_data:\n",
    "    t = cont['title']\n",
    "    leng= len(t)\n",
    "    # the longest title is 127\n",
    "    title_l = np.zeros(127)\n",
    "    title_l[:leng] = t\n",
    "    label_title.append(title_l)"
   ]
  },
  {
   "cell_type": "code",
   "execution_count": 10,
   "id": "d91060b3",
   "metadata": {},
   "outputs": [
    {
     "data": {
      "text/plain": [
       "array([1731.,   47.,   11.,   57., 4624., 1525., 1535.,   47.,   11.,\n",
       "       3522., 2223., 1653.,    0.,    0.,    0.,    0.,    0.,    0.,\n",
       "          0.,    0.,    0.,    0.,    0.,    0.,    0.,    0.,    0.,\n",
       "          0.,    0.,    0.,    0.,    0.,    0.,    0.,    0.,    0.,\n",
       "          0.,    0.,    0.,    0.,    0.,    0.,    0.,    0.,    0.,\n",
       "          0.,    0.,    0.,    0.,    0.,    0.,    0.,    0.,    0.,\n",
       "          0.,    0.,    0.,    0.,    0.,    0.,    0.,    0.,    0.,\n",
       "          0.,    0.,    0.,    0.,    0.,    0.,    0.,    0.,    0.,\n",
       "          0.,    0.,    0.,    0.,    0.,    0.,    0.,    0.,    0.,\n",
       "          0.,    0.,    0.,    0.,    0.,    0.,    0.,    0.,    0.,\n",
       "          0.,    0.,    0.,    0.,    0.,    0.,    0.,    0.,    0.,\n",
       "          0.,    0.,    0.,    0.,    0.,    0.,    0.,    0.,    0.,\n",
       "          0.,    0.,    0.,    0.,    0.,    0.,    0.,    0.,    0.,\n",
       "          0.,    0.,    0.,    0.,    0.,    0.,    0.,    0.,    0.,\n",
       "          0.])"
      ]
     },
     "execution_count": 10,
     "metadata": {},
     "output_type": "execute_result"
    }
   ],
   "source": [
    "label_title[1]"
   ]
  },
  {
   "cell_type": "code",
   "execution_count": null,
   "id": "fd82e1c7",
   "metadata": {},
   "outputs": [],
   "source": [
    "# label the abstract\n",
    "label_abstract = []\n",
    "for cont in train_data:\n",
    "    t = cont['abstract']\n",
    "    leng= len(t)\n",
    "    # the longest title is 127\n",
    "    title_l = np.zeros(127)\n",
    "    title_l[:leng] = t\n",
    "    label_title.append(title_l)\n",
    "#data classification\n",
    "#contrastive learning\n",
    "#word2vec"
   ]
  },
  {
   "cell_type": "code",
   "execution_count": 4,
   "id": "fe0757de",
   "metadata": {},
   "outputs": [],
   "source": [
    "#using word2vec\n",
    "#pip install --upgrade gensim\n",
    "from gensim.models import Word2Vec\n",
    "\n"
   ]
  },
  {
   "cell_type": "code",
   "execution_count": 5,
   "id": "c9cb2d23",
   "metadata": {},
   "outputs": [],
   "source": [
    "# ad title and abstract together and use word2vec as a model\n",
    "title_l = []\n",
    "abstract_l = []\n",
    "for contect in train_data:\n",
    "    ti = contect['title']\n",
    "    title_l.append(ti)\n",
    "    abst = contect['abstract']\n",
    "    abstract_l.append(abst)\n",
    "\n",
    "w2v_model = Word2Vec(sentences=(title_l+abstract_l),vector_size = 128,min_count = 1)\n",
    "w2v = w2v_model.wv"
   ]
  },
  {
   "cell_type": "code",
   "execution_count": 7,
   "id": "75b1cd73",
   "metadata": {},
   "outputs": [
    {
     "data": {
      "text/plain": [
       "array([ 0.06564054, -0.02705611, -0.08554906, -0.6123442 ,  0.71550083,\n",
       "        0.8263495 , -0.37299272,  0.21958807,  0.18188247,  0.28978765,\n",
       "        0.52275795, -0.05760271, -0.14251505, -0.17974982, -0.50025845,\n",
       "        0.02567676, -0.43265936,  0.2914084 ,  0.14193542,  0.41156778,\n",
       "        0.18421966,  0.26185444, -0.37423015,  0.34316364, -0.42898917,\n",
       "        0.09826511, -0.3889142 ,  0.47281328, -0.0855048 ,  0.18498467,\n",
       "       -0.28912368, -0.43982643,  0.12890159, -0.1473765 ,  0.56648314,\n",
       "       -0.7942524 ,  0.52610296, -0.62459743,  0.32831642,  0.02035848,\n",
       "        0.47404313,  0.19665815, -0.2556333 , -0.52210385,  0.15195428,\n",
       "        0.15413976, -0.24150316,  0.18039654,  0.2362605 ,  0.3372081 ,\n",
       "       -0.3123496 ,  0.28255677,  0.2200401 , -0.43868232, -0.3970438 ,\n",
       "        0.55873585,  0.54805243,  0.5968465 ,  0.15600488, -0.3137945 ,\n",
       "        0.19650355, -0.12956019,  0.17694892, -0.02325347,  0.00151268,\n",
       "       -0.15879864,  0.06274869,  0.43543872,  0.42784107,  0.01259568,\n",
       "       -0.27674416,  0.36570364,  0.3713764 ,  0.6154821 ,  0.4505613 ,\n",
       "        0.05442512,  0.65934384, -0.5301981 , -0.39287814,  0.3607089 ,\n",
       "       -0.3934613 ,  0.5506547 ,  0.39138082, -0.34356672,  0.2427963 ,\n",
       "        0.58944064,  0.52123207, -0.03767898,  0.36574337, -0.09764324,\n",
       "       -0.20135552, -0.15450291,  0.28397658, -0.6946882 ,  0.04929265,\n",
       "        0.12395506,  0.12776163, -0.01100772, -0.10275155, -0.659079  ,\n",
       "        0.27843237, -0.44994605, -0.25444752,  0.34339672,  0.10382576,\n",
       "       -0.2612416 ,  0.12386502,  0.03752574, -0.10613529,  0.16628243,\n",
       "       -0.09793268, -0.0062572 ,  0.16648225, -0.66050124, -0.4113755 ,\n",
       "       -0.258501  ,  0.25246534,  0.15208435,  0.11418416, -0.4310315 ,\n",
       "        0.19678828,  0.24681258, -0.07171289,  0.00473755, -0.06324243,\n",
       "       -0.20097373, -0.10525905,  0.50431365], dtype=float32)"
      ]
     },
     "execution_count": 7,
     "metadata": {},
     "output_type": "execute_result"
    }
   ],
   "source": [
    "w2v[1]"
   ]
  },
  {
   "cell_type": "code",
   "execution_count": 6,
   "id": "da89934f",
   "metadata": {},
   "outputs": [],
   "source": [
    "vect_ta = []\n",
    "for cont in train_data:\n",
    "    titl = cont['title']\n",
    "    abstr = cont['abstract']\n",
    "    all_ta = titl+abstr\n",
    "    vector = np.zeros(128)\n",
    "    for wor in all_ta:\n",
    "        vector +=w2v[wor]\n",
    "    vector = vector/len(all_ta)\n",
    "    vect_ta.append(vector)\n",
    "vect_ta = np.array(vect_ta)"
   ]
  },
  {
   "cell_type": "code",
   "execution_count": 11,
   "id": "908f4ceb",
   "metadata": {},
   "outputs": [],
   "source": [
    "#using one hot method \n",
    "venue_l = []\n",
    "for cont in train_data:\n",
    "    #venue id from 0 to 464, include ' ' will have 466 id\n",
    "    vn_n = np.zeros(466)\n",
    "    ven = cont['venue']\n",
    "    if ven == '':\n",
    "        vn_n[-1] = 1\n",
    "    else:\n",
    "        vn_n[ven] = 1\n",
    "    venue_l.append(vn_n)\n",
    "venue_l = np.array(venue_l)"
   ]
  },
  {
   "cell_type": "code",
   "execution_count": 15,
   "id": "2d995452",
   "metadata": {},
   "outputs": [],
   "source": [
    "#find out of distribution and remove it, \n",
    "#it means that find out the id more than 100 but corparate with less than id's is 100\n",
    "co_auth = {}\n",
    "for cont in train_data:\n",
    "    auth = np.array(cont['authors'])\n",
    "    auth_100 = auth[auth<100]\n",
    "    auth_101 = auth[auth>=100]\n",
    "    if len(auth_100)!=0:\n",
    "        for j in auth_101:\n",
    "            co_auth[j] = 1\n"
   ]
  },
  {
   "cell_type": "code",
   "execution_count": 18,
   "id": "669f5609",
   "metadata": {},
   "outputs": [],
   "source": [
    "coau_l = list(co_auth.keys())"
   ]
  },
  {
   "cell_type": "code",
   "execution_count": 22,
   "id": "bab24c69",
   "metadata": {},
   "outputs": [],
   "source": [
    "#using one hot vector method for co-author\n",
    "co_author = []\n",
    "idx_coau ={}\n",
    "for d,idx in enumerate(coau_l):\n",
    "    idx_coau[idx] = d\n",
    "    \n",
    "\n",
    "for conte in train_data:\n",
    "    auth = np.array(cont['authors'])\n",
    "    auth_100 = auth[auth<100]\n",
    "    auth_101 = auth[auth>=100]\n",
    "    co_n = np.zeros(6576)# len of co-author\n",
    "    if len(auth_100) == 0:\n",
    "        co_n[-1] = 1\n",
    "    else:\n",
    "        for i in auth_101:\n",
    "            co_n[idx_coau[i]] =1\n",
    "    co_author.append(co_n)\n",
    "co_author = np.array(co_author)"
   ]
  },
  {
   "cell_type": "code",
   "execution_count": 23,
   "id": "11011fe9",
   "metadata": {},
   "outputs": [],
   "source": [
    "thr_feat = np.concatenate((vect_ta,venue_l),axis =1)"
   ]
  },
  {
   "cell_type": "code",
   "execution_count": 24,
   "id": "17bd007d",
   "metadata": {},
   "outputs": [],
   "source": [
    "mix_featr = np.concatenate((thr_feat ,co_author),axis =1)"
   ]
  },
  {
   "cell_type": "code",
   "execution_count": 61,
   "id": "5e5868e5",
   "metadata": {},
   "outputs": [
    {
     "data": {
      "text/plain": [
       "(800, 7170)"
      ]
     },
     "execution_count": 61,
     "metadata": {},
     "output_type": "execute_result"
    }
   ],
   "source": [
    "np.save('train_d.npy',mix_featr)"
   ]
  },
  {
   "cell_type": "code",
   "execution_count": 62,
   "id": "05cd196c",
   "metadata": {},
   "outputs": [
    {
     "data": {
      "text/plain": [
       "(25793, 7170)"
      ]
     },
     "execution_count": 62,
     "metadata": {},
     "output_type": "execute_result"
    }
   ],
   "source": [
    "mix_featr.shape"
   ]
  },
  {
   "cell_type": "code",
   "execution_count": 49,
   "id": "f85f5c55",
   "metadata": {},
   "outputs": [],
   "source": [
    "test_data =json.load(open('test.json'))"
   ]
  },
  {
   "cell_type": "code",
   "execution_count": 50,
   "id": "adb697c0",
   "metadata": {},
   "outputs": [],
   "source": [
    "vect_test = []\n",
    "for cont in test_data:\n",
    "    titl = cont['title']\n",
    "    abstr = cont['abstract']\n",
    "    all_ta = titl+abstr\n",
    "    vector = np.zeros(128)\n",
    "    for wor in all_ta:\n",
    "        vector +=w2v[wor]\n",
    "    vector = vector/len(all_ta)\n",
    "    vect_test.append(vector)\n",
    "vect_test = np.array(vect_test)"
   ]
  },
  {
   "cell_type": "code",
   "execution_count": 64,
   "id": "1e9d48b6",
   "metadata": {},
   "outputs": [
    {
     "data": {
      "text/plain": [
       "(800, 466)"
      ]
     },
     "execution_count": 64,
     "metadata": {},
     "output_type": "execute_result"
    }
   ],
   "source": [
    "venue_test.shape"
   ]
  },
  {
   "cell_type": "code",
   "execution_count": 51,
   "id": "dc7e8955",
   "metadata": {},
   "outputs": [],
   "source": [
    "#using one hot method \n",
    "venue_test = []\n",
    "for cont in test_data:\n",
    "    #venue id from 0 to 464, include ' ' will have 466 id\n",
    "    vn_n = np.zeros(466)\n",
    "    ven = cont['venue']\n",
    "    if ven == '':\n",
    "        vn_n[-1] = 1\n",
    "    else:\n",
    "        vn_n[ven] = 1\n",
    "    venue_test.append(vn_n)\n",
    "venue_test = np.array(venue_test)"
   ]
  },
  {
   "cell_type": "code",
   "execution_count": 31,
   "id": "43259f62",
   "metadata": {},
   "outputs": [
    {
     "data": {
      "text/plain": [
       "dict_keys(['identifier', 'coauthors', 'year', 'abstract', 'venue', 'title'])"
      ]
     },
     "execution_count": 31,
     "metadata": {},
     "output_type": "execute_result"
    }
   ],
   "source": [
    "test_data[0].keys()"
   ]
  },
  {
   "cell_type": "code",
   "execution_count": 66,
   "id": "21643e65",
   "metadata": {},
   "outputs": [],
   "source": [
    "co_author_test = []\n",
    "for conte in test_data:\n",
    "    auth = np.array(cont['coauthors'])\n",
    "    auth_100 = auth[auth<100]\n",
    "    auth_101 = auth[auth>=100]\n",
    "    co_n = np.zeros(6576)# len of co-author\n",
    "    if len(auth_100) == 0:\n",
    "        co_n[-1] = 1\n",
    "    else:\n",
    "        for i in auth_101:\n",
    "            co_n[idx_coau[i]] = 1\n",
    "    co_author_test.append(co_n)\n",
    "co_author_test = np.array(co_author_test)"
   ]
  },
  {
   "cell_type": "code",
   "execution_count": 67,
   "id": "64328b28",
   "metadata": {},
   "outputs": [
    {
     "data": {
      "text/plain": [
       "(800, 6576)"
      ]
     },
     "execution_count": 67,
     "metadata": {},
     "output_type": "execute_result"
    }
   ],
   "source": [
    "co_author_test.shape"
   ]
  },
  {
   "cell_type": "code",
   "execution_count": 68,
   "id": "5940c495",
   "metadata": {},
   "outputs": [],
   "source": [
    "thr_feat_test = np.concatenate((vect_test,venue_test),axis =1)"
   ]
  },
  {
   "cell_type": "code",
   "execution_count": 69,
   "id": "5124537c",
   "metadata": {},
   "outputs": [],
   "source": [
    "mix_featr_test = np.concatenate((thr_feat_test ,co_author_test),axis =1)"
   ]
  },
  {
   "cell_type": "code",
   "execution_count": 71,
   "id": "df252b8f",
   "metadata": {},
   "outputs": [
    {
     "data": {
      "text/plain": [
       "(800, 7170)"
      ]
     },
     "execution_count": 71,
     "metadata": {},
     "output_type": "execute_result"
    }
   ],
   "source": [
    "mix_featr_test.shape"
   ]
  },
  {
   "cell_type": "code",
   "execution_count": 72,
   "id": "e007503b",
   "metadata": {},
   "outputs": [],
   "source": [
    "\n",
    "np.save('test_d.npy',mix_featr_test)\n",
    "#save the feature data "
   ]
  },
  {
   "cell_type": "code",
   "execution_count": 74,
   "id": "b69e7e7c",
   "metadata": {},
   "outputs": [],
   "source": [
    "# classification model\n",
    "x =np.load('train_d.npy')\n",
    "y = np.load('test_d.npy')\n"
   ]
  },
  {
   "cell_type": "code",
   "execution_count": 83,
   "id": "8831e588",
   "metadata": {},
   "outputs": [],
   "source": [
    "x_train,x_test,y_train,y_test = train_test_split(x,author_label_train,test_size = 0.3,random_state =1)"
   ]
  },
  {
   "cell_type": "code",
   "execution_count": 86,
   "id": "3d36bf6b",
   "metadata": {},
   "outputs": [
    {
     "data": {
      "text/plain": [
       "(18055, 101)"
      ]
     },
     "execution_count": 86,
     "metadata": {},
     "output_type": "execute_result"
    }
   ],
   "source": [
    "y_train.shape"
   ]
  },
  {
   "cell_type": "code",
   "execution_count": null,
   "id": "f320b575",
   "metadata": {},
   "outputs": [],
   "source": []
  },
  {
   "cell_type": "code",
   "execution_count": 99,
   "id": "2364ab8a",
   "metadata": {
    "scrolled": true
   },
   "outputs": [
    {
     "name": "stdout",
     "output_type": "stream",
     "text": [
      "Epoch 1/50\n",
      "142/142 [==============================] - 6s 30ms/step - loss: 0.5822\n",
      "Epoch 2/50\n",
      "142/142 [==============================] - 4s 30ms/step - loss: 0.5560\n",
      "Epoch 3/50\n",
      "142/142 [==============================] - 5s 36ms/step - loss: 0.5560\n",
      "Epoch 4/50\n",
      "142/142 [==============================] - 5s 34ms/step - loss: 0.5560\n",
      "Epoch 5/50\n",
      "142/142 [==============================] - 5s 35ms/step - loss: 0.5560\n",
      "Epoch 6/50\n",
      "142/142 [==============================] - 5s 33ms/step - loss: 0.5560\n",
      "Epoch 7/50\n",
      "142/142 [==============================] - 7s 51ms/step - loss: 0.5559\n",
      "Epoch 8/50\n",
      "142/142 [==============================] - 8s 59ms/step - loss: 0.5559\n",
      "Epoch 9/50\n",
      "142/142 [==============================] - 6s 41ms/step - loss: 0.5559\n",
      "Epoch 10/50\n",
      "142/142 [==============================] - 5s 34ms/step - loss: 0.5559\n",
      "Epoch 11/50\n",
      "142/142 [==============================] - 5s 34ms/step - loss: 0.5559\n",
      "Epoch 12/50\n",
      "142/142 [==============================] - 5s 38ms/step - loss: 0.5559\n",
      "Epoch 13/50\n",
      "142/142 [==============================] - 7s 49ms/step - loss: 0.5559\n",
      "Epoch 14/50\n",
      "142/142 [==============================] - 8s 53ms/step - loss: 0.5560\n",
      "Epoch 15/50\n",
      "142/142 [==============================] - 6s 40ms/step - loss: 0.5560\n",
      "Epoch 16/50\n",
      "142/142 [==============================] - 5s 36ms/step - loss: 0.5559\n",
      "Epoch 17/50\n",
      "142/142 [==============================] - 6s 40ms/step - loss: 0.5559\n",
      "Epoch 18/50\n",
      "142/142 [==============================] - 6s 40ms/step - loss: 0.5558\n",
      "Epoch 19/50\n",
      "142/142 [==============================] - 6s 40ms/step - loss: 0.5557\n",
      "Epoch 20/50\n",
      "142/142 [==============================] - 6s 40ms/step - loss: 0.5539\n",
      "Epoch 21/50\n",
      "142/142 [==============================] - 5s 36ms/step - loss: 0.5506\n",
      "Epoch 22/50\n",
      "142/142 [==============================] - 5s 34ms/step - loss: 0.5486\n",
      "Epoch 23/50\n",
      "142/142 [==============================] - 5s 35ms/step - loss: 0.5454\n",
      "Epoch 24/50\n",
      "142/142 [==============================] - 5s 39ms/step - loss: 0.5424\n",
      "Epoch 25/50\n",
      "142/142 [==============================] - 5s 36ms/step - loss: 0.5393\n",
      "Epoch 26/50\n",
      "142/142 [==============================] - 5s 38ms/step - loss: 0.5365\n",
      "Epoch 27/50\n",
      "142/142 [==============================] - 5s 38ms/step - loss: 0.5336\n",
      "Epoch 28/50\n",
      "142/142 [==============================] - 6s 40ms/step - loss: 0.5310\n",
      "Epoch 29/50\n",
      "142/142 [==============================] - 5s 37ms/step - loss: 0.5287\n",
      "Epoch 30/50\n",
      "142/142 [==============================] - 5s 35ms/step - loss: 0.5263\n",
      "Epoch 31/50\n",
      "142/142 [==============================] - 5s 36ms/step - loss: 0.5253\n",
      "Epoch 32/50\n",
      "142/142 [==============================] - 6s 40ms/step - loss: 0.5238\n",
      "Epoch 33/50\n",
      "142/142 [==============================] - 7s 47ms/step - loss: 0.5213\n",
      "Epoch 34/50\n",
      "142/142 [==============================] - 6s 40ms/step - loss: 0.5200\n",
      "Epoch 35/50\n",
      "142/142 [==============================] - 5s 36ms/step - loss: 0.5186\n",
      "Epoch 36/50\n",
      "142/142 [==============================] - 5s 35ms/step - loss: 0.5169\n",
      "Epoch 37/50\n",
      "142/142 [==============================] - 5s 36ms/step - loss: 0.5157\n",
      "Epoch 38/50\n",
      "142/142 [==============================] - 6s 39ms/step - loss: 0.5135\n",
      "Epoch 39/50\n",
      "142/142 [==============================] - 5s 37ms/step - loss: 0.5117\n",
      "Epoch 40/50\n",
      "142/142 [==============================] - 6s 39ms/step - loss: 0.5125\n",
      "Epoch 41/50\n",
      "142/142 [==============================] - 5s 37ms/step - loss: 0.5099\n",
      "Epoch 42/50\n",
      "142/142 [==============================] - 5s 35ms/step - loss: 0.5083\n",
      "Epoch 43/50\n",
      "142/142 [==============================] - 5s 36ms/step - loss: 0.5069\n",
      "Epoch 44/50\n",
      "142/142 [==============================] - 5s 37ms/step - loss: 0.5057\n",
      "Epoch 45/50\n",
      "142/142 [==============================] - 5s 37ms/step - loss: 0.5040\n",
      "Epoch 46/50\n",
      "142/142 [==============================] - 5s 38ms/step - loss: 0.5025\n",
      "Epoch 47/50\n",
      "142/142 [==============================] - 6s 39ms/step - loss: 0.5020\n",
      "Epoch 48/50\n",
      "142/142 [==============================] - 5s 37ms/step - loss: 0.5006\n",
      "Epoch 49/50\n",
      "142/142 [==============================] - 5s 37ms/step - loss: 0.4996\n",
      "Epoch 50/50\n",
      "142/142 [==============================] - 5s 38ms/step - loss: 0.4988\n"
     ]
    },
    {
     "data": {
      "text/plain": [
       "<keras.callbacks.History at 0x7fbffd2b1590>"
      ]
     },
     "execution_count": 99,
     "metadata": {},
     "output_type": "execute_result"
    }
   ],
   "source": [
    "model_all = Sequential()\n",
    "model_all.add(Dense(512, input_dim = x_train.shape[1],activation= 'relu'))\n",
    "model_all.add(Dropout(0.2))\n",
    "model_all.add(Dense(256,activation ='relu'))\n",
    "model_all.add(Dropout(0.2))\n",
    "model_all.add(Dense(y_train.shape[1],activation ='sigmoid'))\n",
    "model_all.compile(loss = bp_mll_loss,optimizer='adam')\n",
    "model_all.fit(x_train,y_train,epochs = 50,batch_size = 128)"
   ]
  },
  {
   "cell_type": "code",
   "execution_count": 100,
   "id": "ab3a502f",
   "metadata": {},
   "outputs": [
    {
     "name": "stdout",
     "output_type": "stream",
     "text": [
      "565/565 [==============================] - 2s 4ms/step\n"
     ]
    }
   ],
   "source": [
    "predi_re = model_all.predict(x_train)"
   ]
  },
  {
   "cell_type": "code",
   "execution_count": 101,
   "id": "a7cebe7e",
   "metadata": {},
   "outputs": [],
   "source": [
    "predi_re = np.where(predi_re >=0.5,1,0)"
   ]
  },
  {
   "cell_type": "code",
   "execution_count": 102,
   "id": "32528751",
   "metadata": {},
   "outputs": [
    {
     "data": {
      "text/plain": [
       "0.5641588863718914"
      ]
     },
     "execution_count": 102,
     "metadata": {},
     "output_type": "execute_result"
    }
   ],
   "source": [
    "f1_score(y_true = y_train, y_pred = predi_re,average ='samples')"
   ]
  },
  {
   "cell_type": "code",
   "execution_count": 104,
   "id": "81d46972",
   "metadata": {},
   "outputs": [
    {
     "name": "stdout",
     "output_type": "stream",
     "text": [
      "242/242 [==============================] - 1s 3ms/step\n"
     ]
    },
    {
     "data": {
      "text/plain": [
       "0.5299794390238037"
      ]
     },
     "execution_count": 104,
     "metadata": {},
     "output_type": "execute_result"
    }
   ],
   "source": [
    "predi_test = model_all.predict(x_test)\n",
    "predi_test = np.where(predi_test >=0.5,1,0)\n",
    "f1_score(y_true = y_test, y_pred = predi_test,average ='samples')"
   ]
  },
  {
   "cell_type": "code",
   "execution_count": 108,
   "id": "81158767",
   "metadata": {},
   "outputs": [
    {
     "name": "stdout",
     "output_type": "stream",
     "text": [
      "25/25 [==============================] - 0s 4ms/step\n"
     ]
    }
   ],
   "source": [
    "predic_final = model_all.predict(y)"
   ]
  },
  {
   "cell_type": "code",
   "execution_count": 115,
   "id": "75f14aa0",
   "metadata": {},
   "outputs": [],
   "source": [
    "predic_final_idx = [np.where(i >=0.5) for i in predic_final]"
   ]
  },
  {
   "cell_type": "code",
   "execution_count": null,
   "id": "a552f370",
   "metadata": {},
   "outputs": [],
   "source": []
  },
  {
   "cell_type": "code",
   "execution_count": 116,
   "id": "18cc427d",
   "metadata": {},
   "outputs": [],
   "source": [
    "csv_t = pd.DataFrame(predic_final_idx, columns =['Predict'])"
   ]
  },
  {
   "cell_type": "code",
   "execution_count": 117,
   "id": "176114d6",
   "metadata": {},
   "outputs": [
    {
     "data": {
      "text/html": [
       "<div>\n",
       "<style scoped>\n",
       "    .dataframe tbody tr th:only-of-type {\n",
       "        vertical-align: middle;\n",
       "    }\n",
       "\n",
       "    .dataframe tbody tr th {\n",
       "        vertical-align: top;\n",
       "    }\n",
       "\n",
       "    .dataframe thead th {\n",
       "        text-align: right;\n",
       "    }\n",
       "</style>\n",
       "<table border=\"1\" class=\"dataframe\">\n",
       "  <thead>\n",
       "    <tr style=\"text-align: right;\">\n",
       "      <th></th>\n",
       "      <th>Predict</th>\n",
       "    </tr>\n",
       "  </thead>\n",
       "  <tbody>\n",
       "    <tr>\n",
       "      <th>0</th>\n",
       "      <td>[100]</td>\n",
       "    </tr>\n",
       "    <tr>\n",
       "      <th>1</th>\n",
       "      <td>[100]</td>\n",
       "    </tr>\n",
       "    <tr>\n",
       "      <th>2</th>\n",
       "      <td>[56, 81, 100]</td>\n",
       "    </tr>\n",
       "    <tr>\n",
       "      <th>3</th>\n",
       "      <td>[6, 23, 31, 50, 78, 100]</td>\n",
       "    </tr>\n",
       "    <tr>\n",
       "      <th>4</th>\n",
       "      <td>[26, 100]</td>\n",
       "    </tr>\n",
       "    <tr>\n",
       "      <th>...</th>\n",
       "      <td>...</td>\n",
       "    </tr>\n",
       "    <tr>\n",
       "      <th>795</th>\n",
       "      <td>[100]</td>\n",
       "    </tr>\n",
       "    <tr>\n",
       "      <th>796</th>\n",
       "      <td>[16, 19, 21, 53, 63, 100]</td>\n",
       "    </tr>\n",
       "    <tr>\n",
       "      <th>797</th>\n",
       "      <td>[14, 74, 92, 100]</td>\n",
       "    </tr>\n",
       "    <tr>\n",
       "      <th>798</th>\n",
       "      <td>[11, 41, 43, 53, 81, 100]</td>\n",
       "    </tr>\n",
       "    <tr>\n",
       "      <th>799</th>\n",
       "      <td>[24, 53, 100]</td>\n",
       "    </tr>\n",
       "  </tbody>\n",
       "</table>\n",
       "<p>800 rows × 1 columns</p>\n",
       "</div>"
      ],
      "text/plain": [
       "                       Predict\n",
       "0                        [100]\n",
       "1                        [100]\n",
       "2                [56, 81, 100]\n",
       "3     [6, 23, 31, 50, 78, 100]\n",
       "4                    [26, 100]\n",
       "..                         ...\n",
       "795                      [100]\n",
       "796  [16, 19, 21, 53, 63, 100]\n",
       "797          [14, 74, 92, 100]\n",
       "798  [11, 41, 43, 53, 81, 100]\n",
       "799              [24, 53, 100]\n",
       "\n",
       "[800 rows x 1 columns]"
      ]
     },
     "execution_count": 117,
     "metadata": {},
     "output_type": "execute_result"
    }
   ],
   "source": [
    "csv_t"
   ]
  },
  {
   "cell_type": "code",
   "execution_count": 121,
   "id": "c3fd90ce",
   "metadata": {},
   "outputs": [
    {
     "data": {
      "text/plain": [
       "array([100])"
      ]
     },
     "execution_count": 121,
     "metadata": {},
     "output_type": "execute_result"
    }
   ],
   "source": []
  },
  {
   "cell_type": "code",
   "execution_count": null,
   "id": "e7e3bd16",
   "metadata": {},
   "outputs": [],
   "source": []
  }
 ],
 "metadata": {
  "kernelspec": {
   "display_name": "Python 3 (ipykernel)",
   "language": "python",
   "name": "python3"
  },
  "language_info": {
   "codemirror_mode": {
    "name": "ipython",
    "version": 3
   },
   "file_extension": ".py",
   "mimetype": "text/x-python",
   "name": "python",
   "nbconvert_exporter": "python",
   "pygments_lexer": "ipython3",
   "version": "3.7.13"
  }
 },
 "nbformat": 4,
 "nbformat_minor": 5
}
