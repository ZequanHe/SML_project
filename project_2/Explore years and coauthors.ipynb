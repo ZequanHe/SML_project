{
 "cells": [
  {
   "cell_type": "markdown",
   "id": "eb7012c5",
   "metadata": {},
   "source": [
    "Import libraries"
   ]
  },
  {
   "cell_type": "code",
   "execution_count": 8,
   "id": "7f99b956",
   "metadata": {},
   "outputs": [],
   "source": [
    "import numpy as np\n",
    "import pandas as pd\n",
    "import torch\n",
    "import torch.nn as nn\n",
    "import torch.optim as optim\n",
    "import torch.nn.functional as F\n",
    "import time\n",
    "from sklearn.metrics import f1_score\n",
    "import matplotlib.pyplot as plt"
   ]
  },
  {
   "cell_type": "markdown",
   "id": "e4560479",
   "metadata": {},
   "source": [
    "Load data and explore years"
   ]
  },
  {
   "cell_type": "code",
   "execution_count": 9,
   "id": "e6600c8f",
   "metadata": {},
   "outputs": [
    {
     "data": {
      "text/html": [
       "<div>\n",
       "<style scoped>\n",
       "    .dataframe tbody tr th:only-of-type {\n",
       "        vertical-align: middle;\n",
       "    }\n",
       "\n",
       "    .dataframe tbody tr th {\n",
       "        vertical-align: top;\n",
       "    }\n",
       "\n",
       "    .dataframe thead th {\n",
       "        text-align: right;\n",
       "    }\n",
       "</style>\n",
       "<table border=\"1\" class=\"dataframe\">\n",
       "  <thead>\n",
       "    <tr style=\"text-align: right;\">\n",
       "      <th></th>\n",
       "      <th>authors</th>\n",
       "      <th>year</th>\n",
       "      <th>abstract</th>\n",
       "      <th>venue</th>\n",
       "      <th>title</th>\n",
       "    </tr>\n",
       "  </thead>\n",
       "  <tbody>\n",
       "    <tr>\n",
       "      <th>0</th>\n",
       "      <td>[42, 13720, 36]</td>\n",
       "      <td>9</td>\n",
       "      <td>[2455, 1858, 2335, 1543, 1800, 1860, 2000, 286...</td>\n",
       "      <td>20</td>\n",
       "      <td>[41, 1550, 1563, 1594, 1544, 1919, 1644, 37, 1...</td>\n",
       "    </tr>\n",
       "    <tr>\n",
       "      <th>1</th>\n",
       "      <td>[1359, 15881, 45]</td>\n",
       "      <td>15</td>\n",
       "      <td>[40, 1542, 1691, 2449, 1535, 3616, 2206, 1904,...</td>\n",
       "      <td>2</td>\n",
       "      <td>[1731, 47, 11, 57, 4624, 1525, 1535, 47, 11, 3...</td>\n",
       "    </tr>\n",
       "    <tr>\n",
       "      <th>2</th>\n",
       "      <td>[19166, 17763]</td>\n",
       "      <td>17</td>\n",
       "      <td>[40, 1542, 1691, 2449, 1535, 2610, 1543, 1535,...</td>\n",
       "      <td></td>\n",
       "      <td>[2085, 1719, 1846, 1745, 2243, 1553, 1606, 159...</td>\n",
       "    </tr>\n",
       "    <tr>\n",
       "      <th>3</th>\n",
       "      <td>[97]</td>\n",
       "      <td>10</td>\n",
       "      <td>[46, 1624, 1547, 56, 1687, 1644, 6, 7, 3386, 1...</td>\n",
       "      <td>4</td>\n",
       "      <td>[40, 1733, 1735, 1540, 1655, 46, 1624, 1547, 5...</td>\n",
       "    </tr>\n",
       "    <tr>\n",
       "      <th>4</th>\n",
       "      <td>[19617, 2]</td>\n",
       "      <td>10</td>\n",
       "      <td>[37, 3709, 3836, 1586, 2151, 1727, 3021, 1860,...</td>\n",
       "      <td>9</td>\n",
       "      <td>[38, 1592, 2088, 1543, 1574, 1727, 1597, 1813,...</td>\n",
       "    </tr>\n",
       "  </tbody>\n",
       "</table>\n",
       "</div>"
      ],
      "text/plain": [
       "             authors  year                                           abstract  \\\n",
       "0    [42, 13720, 36]     9  [2455, 1858, 2335, 1543, 1800, 1860, 2000, 286...   \n",
       "1  [1359, 15881, 45]    15  [40, 1542, 1691, 2449, 1535, 3616, 2206, 1904,...   \n",
       "2     [19166, 17763]    17  [40, 1542, 1691, 2449, 1535, 2610, 1543, 1535,...   \n",
       "3               [97]    10  [46, 1624, 1547, 56, 1687, 1644, 6, 7, 3386, 1...   \n",
       "4         [19617, 2]    10  [37, 3709, 3836, 1586, 2151, 1727, 3021, 1860,...   \n",
       "\n",
       "  venue                                              title  \n",
       "0    20  [41, 1550, 1563, 1594, 1544, 1919, 1644, 37, 1...  \n",
       "1     2  [1731, 47, 11, 57, 4624, 1525, 1535, 47, 11, 3...  \n",
       "2        [2085, 1719, 1846, 1745, 2243, 1553, 1606, 159...  \n",
       "3     4  [40, 1733, 1735, 1540, 1655, 46, 1624, 1547, 5...  \n",
       "4     9  [38, 1592, 2088, 1543, 1574, 1727, 1597, 1813,...  "
      ]
     },
     "execution_count": 9,
     "metadata": {},
     "output_type": "execute_result"
    }
   ],
   "source": [
    "train_data = pd.read_json(\"train.json\")\n",
    "train_data.head()"
   ]
  },
  {
   "cell_type": "code",
   "execution_count": 10,
   "id": "67a5d154",
   "metadata": {
    "scrolled": true
   },
   "outputs": [
    {
     "data": {
      "text/html": [
       "<div>\n",
       "<style scoped>\n",
       "    .dataframe tbody tr th:only-of-type {\n",
       "        vertical-align: middle;\n",
       "    }\n",
       "\n",
       "    .dataframe tbody tr th {\n",
       "        vertical-align: top;\n",
       "    }\n",
       "\n",
       "    .dataframe thead th {\n",
       "        text-align: right;\n",
       "    }\n",
       "</style>\n",
       "<table border=\"1\" class=\"dataframe\">\n",
       "  <thead>\n",
       "    <tr style=\"text-align: right;\">\n",
       "      <th></th>\n",
       "      <th>identifier</th>\n",
       "      <th>coauthors</th>\n",
       "      <th>year</th>\n",
       "      <th>abstract</th>\n",
       "      <th>venue</th>\n",
       "      <th>title</th>\n",
       "    </tr>\n",
       "  </thead>\n",
       "  <tbody>\n",
       "    <tr>\n",
       "      <th>0</th>\n",
       "      <td>0</td>\n",
       "      <td>[16336, 1762, 4357, 12564]</td>\n",
       "      <td>19</td>\n",
       "      <td>[37, 1662, 3207, 10, 33, 2037, 1738, 1642, 155...</td>\n",
       "      <td>223</td>\n",
       "      <td>[3207, 24, 1798, 1738, 37, 2375, 1568, 11, 53,...</td>\n",
       "    </tr>\n",
       "    <tr>\n",
       "      <th>1</th>\n",
       "      <td>1</td>\n",
       "      <td>[21189, 14088]</td>\n",
       "      <td>19</td>\n",
       "      <td>[1731, 2130, 3674, 1705, 1656, 3077, 1546, 367...</td>\n",
       "      <td>223</td>\n",
       "      <td>[40, 1560, 1536, 1544, 1609, 1705, 1658, 1543,...</td>\n",
       "    </tr>\n",
       "    <tr>\n",
       "      <th>2</th>\n",
       "      <td>2</td>\n",
       "      <td>[3625, 1198, 19889, 794, 2749, 7801]</td>\n",
       "      <td>19</td>\n",
       "      <td>[1551, 1728, 3920, 1542, 1535, 1656, 1543, 153...</td>\n",
       "      <td>7</td>\n",
       "      <td>[47, 1574, 1729, 1641, 11, 37, 2533, 2015, 47,...</td>\n",
       "    </tr>\n",
       "    <tr>\n",
       "      <th>3</th>\n",
       "      <td>3</td>\n",
       "      <td>[19810, 15173, 5876, 111]</td>\n",
       "      <td>19</td>\n",
       "      <td>[51, 1535, 2115, 1543, 1811, 1700, 1657, 1684,...</td>\n",
       "      <td>21</td>\n",
       "      <td>[1770, 53, 2054, 1549, 1529, 1723, 2796, 1547,...</td>\n",
       "    </tr>\n",
       "    <tr>\n",
       "      <th>4</th>\n",
       "      <td>4</td>\n",
       "      <td>[10932, 7668, 11907, 19601, 15307, 10492, 1049...</td>\n",
       "      <td>19</td>\n",
       "      <td>[1775, 1746, 1842, 1525, 33, 2551, 1882, 1542,...</td>\n",
       "      <td></td>\n",
       "      <td>[18, 1924, 23, 1544, 3927, 2686, 1543, 1535, 1...</td>\n",
       "    </tr>\n",
       "  </tbody>\n",
       "</table>\n",
       "</div>"
      ],
      "text/plain": [
       "   identifier                                          coauthors  year  \\\n",
       "0           0                         [16336, 1762, 4357, 12564]    19   \n",
       "1           1                                     [21189, 14088]    19   \n",
       "2           2               [3625, 1198, 19889, 794, 2749, 7801]    19   \n",
       "3           3                          [19810, 15173, 5876, 111]    19   \n",
       "4           4  [10932, 7668, 11907, 19601, 15307, 10492, 1049...    19   \n",
       "\n",
       "                                            abstract venue  \\\n",
       "0  [37, 1662, 3207, 10, 33, 2037, 1738, 1642, 155...   223   \n",
       "1  [1731, 2130, 3674, 1705, 1656, 3077, 1546, 367...   223   \n",
       "2  [1551, 1728, 3920, 1542, 1535, 1656, 1543, 153...     7   \n",
       "3  [51, 1535, 2115, 1543, 1811, 1700, 1657, 1684,...    21   \n",
       "4  [1775, 1746, 1842, 1525, 33, 2551, 1882, 1542,...         \n",
       "\n",
       "                                               title  \n",
       "0  [3207, 24, 1798, 1738, 37, 2375, 1568, 11, 53,...  \n",
       "1  [40, 1560, 1536, 1544, 1609, 1705, 1658, 1543,...  \n",
       "2  [47, 1574, 1729, 1641, 11, 37, 2533, 2015, 47,...  \n",
       "3  [1770, 53, 2054, 1549, 1529, 1723, 2796, 1547,...  \n",
       "4  [18, 1924, 23, 1544, 3927, 2686, 1543, 1535, 1...  "
      ]
     },
     "execution_count": 10,
     "metadata": {},
     "output_type": "execute_result"
    }
   ],
   "source": [
    "test_data = pd.read_json(\"test.json\")\n",
    "test_data.head(5)"
   ]
  },
  {
   "cell_type": "code",
   "execution_count": 11,
   "id": "6933715b",
   "metadata": {},
   "outputs": [
    {
     "data": {
      "text/plain": [
       "(array([  0.,   0.,   0.,   0.,   0., 800.,   0.,   0.,   0.,   0.]),\n",
       " array([18.5, 18.6, 18.7, 18.8, 18.9, 19. , 19.1, 19.2, 19.3, 19.4, 19.5]),\n",
       " <BarContainer object of 10 artists>)"
      ]
     },
     "execution_count": 11,
     "metadata": {},
     "output_type": "execute_result"
    },
    {
     "data": {
      "image/png": "[encoded data removed]",
      "text/plain": [
       "<Figure size 576x360 with 2 Axes>"
      ]
     },
     "metadata": {
      "needs_background": "light"
     },
     "output_type": "display_data"
    }
   ],
   "source": [
    "fig, axes = plt.subplots(nrows=1, ncols=2, figsize=(8, 5))\n",
    "axes[0].hist(train_data[\"year\"].values)\n",
    "axes[1].hist(test_data[\"year\"].values)"
   ]
  },
  {
   "cell_type": "code",
   "execution_count": 12,
   "id": "b7719f75",
   "metadata": {},
   "outputs": [],
   "source": [
    "test_venues = test_data[\"venue\"].values\n",
    "test_venues[test_venues == ''] = '-1'"
   ]
  },
  {
   "cell_type": "code",
   "execution_count": 13,
   "id": "ae939e88",
   "metadata": {
    "scrolled": true
   },
   "outputs": [
    {
     "data": {
      "text/plain": [
       "{-1: 91,\n",
       " 0: 187,\n",
       " 5: 7,\n",
       " 7: 117,\n",
       " 13: 11,\n",
       " 17: 6,\n",
       " 18: 9,\n",
       " 21: 41,\n",
       " 31: 16,\n",
       " 56: 3,\n",
       " 59: 29,\n",
       " 63: 5,\n",
       " 105: 8,\n",
       " 106: 4,\n",
       " 122: 4,\n",
       " 161: 1,\n",
       " 197: 5,\n",
       " 223: 164,\n",
       " 224: 1,\n",
       " 234: 4,\n",
       " 235: 15,\n",
       " 263: 2,\n",
       " 367: 6,\n",
       " 431: 20,\n",
       " 447: 5,\n",
       " 455: 1,\n",
       " 458: 9,\n",
       " 459: 8,\n",
       " 460: 6,\n",
       " 461: 5,\n",
       " 462: 5,\n",
       " 463: 3,\n",
       " 464: 2}"
      ]
     },
     "execution_count": 13,
     "metadata": {},
     "output_type": "execute_result"
    }
   ],
   "source": [
    "unique, counts = np.unique(test_venues.astype(int), return_counts=True) \n",
    "dict(zip(unique, counts))"
   ]
  },
  {
   "cell_type": "markdown",
   "id": "ca4f8df2",
   "metadata": {},
   "source": [
    "Helper functions for input/output format and scoring"
   ]
  },
  {
   "cell_type": "code",
   "execution_count": 134,
   "id": "cf831333",
   "metadata": {},
   "outputs": [],
   "source": [
    "def get_prolific_authors(authors):\n",
    "    \"\"\"Filter a list of authors to contain prolific authors only (ID < 100)\n",
    "\n",
    "    Parameters\n",
    "    ----------        \n",
    "    authors : \n",
    "        A list of authors. \n",
    "\n",
    "    -------\n",
    "    Return \n",
    "    y : \n",
    "        A list of prolific authors.\n",
    "    \n",
    "    \"\"\"\n",
    "    return list(filter(lambda x: x < 100, authors))\n",
    "\n",
    "def get_non_prolific_coauthors(authors):\n",
    "    \"\"\"Filter a list of authors to contain non-prolific authors only (ID >= 100)\n",
    "\n",
    "    Parameters\n",
    "    ----------        \n",
    "    authors : \n",
    "        A list of authors. \n",
    "\n",
    "    -------\n",
    "    Return \n",
    "    y : \n",
    "        A list of non-prolific authors.\n",
    "    \n",
    "    \"\"\"\n",
    "    return list(filter(lambda x: x >= 100, authors))\n",
    "\n",
    "def author_ids_to_multi_hot_tensor(authors):\n",
    "    \"\"\"Convert author id to multi-hot tensor representation\n",
    "\n",
    "    Parameters\n",
    "    ----------        \n",
    "    authors : \n",
    "        A list of author ids (<100). e.g. [23, 47]\n",
    "\n",
    "    -------\n",
    "    Return \n",
    "    y : \n",
    "        A list of zeors and ones of length 100. [0, 0, 0, .... 1, 0, 0, 0, ... 1, 0, 0, .....]\n",
    "    \n",
    "    \"\"\"\n",
    "    tensor = torch.zeros(1, 100, dtype=torch.float32)\n",
    "    for i, author_id in enumerate(authors):\n",
    "        tensor[0][author_id] = 1  \n",
    "    return torch.squeeze(tensor)\n",
    "\n",
    "def author_ids_to_multi_hot_list(authors):\n",
    "    return author_ids_to_multi_hot_tensor(authors).tolist()\n",
    "\n",
    "def multi_hot_authors_to_integer(authors):\n",
    "    \"\"\"Convert multi hot authors to integer representation\n",
    "\n",
    "    Parameters\n",
    "    ----------        \n",
    "    authors : \n",
    "        A list of zeros and ones of length 100. [0, 0, 0, .... 1, 0, 0, 0, ... 1, 0, 0, .....]\n",
    "        \n",
    "    -------\n",
    "    Return  \n",
    "        A list of author ids (<100). e.g. [23, 47]\n",
    "        return [-1] for empty multi hot representation\n",
    "    \n",
    "    \"\"\"\n",
    "    author_ids = torch.where(authors == 1)[1]\n",
    "    if len(author_ids) > 0:\n",
    "        return author_ids.tolist()\n",
    "    else:\n",
    "        return [-1]\n",
    "    \n",
    "def list_of_integers_to_string_format(integers):\n",
    "    \"\"\"Convert integer author ids to string representation\n",
    "\n",
    "    Parameters\n",
    "    ----------        \n",
    "    list of integers : e.g. [1, 2]\n",
    "        \n",
    "    -------\n",
    "    Return: string of format e.g. \"1 2\"\n",
    "    \n",
    "    \"\"\"\n",
    "    return \" \".join([str(author_id) for author_id in integers])\n",
    "    \n",
    "def multi_hot_to_csv(all_test_predictions, test_ids):\n",
    "    test_integers = [ multi_hot_authors_to_integer(pred) for pred in all_test_predictions]\n",
    "    string_integers = list(map(list_of_integers_to_string_format, test_integers))\n",
    "    \n",
    "    header = [\"ID\", \"Predict\"]\n",
    "    test_ids = [str(test_id) for test_id in test_ids]\n",
    "    results = list(zip(test_ids, string_integers))\n",
    "    output = [header] + results\n",
    "    a = np.asarray(output)\n",
    "    np.savetxt(\"foo.csv\", a, delimiter=\",\", fmt='%s')\n",
    "    \n",
    "def get_score(ground_truth, predictions):\n",
    "    return f1_score(ground_truth, predictions, average='micro')\n"
   ]
  },
  {
   "cell_type": "markdown",
   "id": "6d7e7ec0",
   "metadata": {},
   "source": [
    "Prepare training and testing labels"
   ]
  },
  {
   "cell_type": "code",
   "execution_count": 16,
   "id": "4ff9eced",
   "metadata": {},
   "outputs": [],
   "source": [
    "# use training data [0:20000] for training, the rest [20000:25793] for cross validation\n",
    "all_y_train = list(map(get_prolific_authors, train_data[\"authors\"].tolist()))\n",
    "y_cross = all_y_train[20000:]\n",
    "y_train = all_y_train[:20000]"
   ]
  },
  {
   "cell_type": "markdown",
   "id": "e71124db",
   "metadata": {},
   "source": [
    "Prepare training and testing features"
   ]
  },
  {
   "cell_type": "code",
   "execution_count": 17,
   "id": "d369ffca",
   "metadata": {
    "scrolled": true
   },
   "outputs": [
    {
     "ename": "SyntaxError",
     "evalue": "invalid syntax (1184045751.py, line 1)",
     "output_type": "error",
     "traceback": [
      "\u001b[0;36m  Input \u001b[0;32mIn [17]\u001b[0;36m\u001b[0m\n\u001b[0;31m    afl-fuzz -c ~/results/others/reboot.sh -i ~/results/seed_corpus -o out-fotbot -N tcp://127.0.0.1/8888 -x ~/results/others/fotbot.dict -P FOTBOT -D 10000 -q 3 -s 3 -EKR ./fotbot-fuzz 127.0.0.1 8888 127.0.0.1 9999\u001b[0m\n\u001b[0m                ^\u001b[0m\n\u001b[0;31mSyntaxError\u001b[0m\u001b[0;31m:\u001b[0m invalid syntax\n"
     ]
    }
   ],
   "source": [
    "X_train = train_data.head()"
   ]
  },
  {
   "cell_type": "markdown",
   "id": "3e2fc2c1",
   "metadata": {},
   "source": [
    "Focus on recent paper"
   ]
  },
  {
   "cell_type": "code",
   "execution_count": 63,
   "id": "47f5461c",
   "metadata": {
    "scrolled": false
   },
   "outputs": [
    {
     "data": {
      "text/html": [
       "<div>\n",
       "<style scoped>\n",
       "    .dataframe tbody tr th:only-of-type {\n",
       "        vertical-align: middle;\n",
       "    }\n",
       "\n",
       "    .dataframe tbody tr th {\n",
       "        vertical-align: top;\n",
       "    }\n",
       "\n",
       "    .dataframe thead th {\n",
       "        text-align: right;\n",
       "    }\n",
       "</style>\n",
       "<table border=\"1\" class=\"dataframe\">\n",
       "  <thead>\n",
       "    <tr style=\"text-align: right;\">\n",
       "      <th></th>\n",
       "      <th>authors</th>\n",
       "      <th>year</th>\n",
       "      <th>abstract</th>\n",
       "      <th>venue</th>\n",
       "      <th>title</th>\n",
       "    </tr>\n",
       "  </thead>\n",
       "  <tbody>\n",
       "    <tr>\n",
       "      <th>2</th>\n",
       "      <td>[19166, 17763]</td>\n",
       "      <td>17</td>\n",
       "      <td>[40, 1542, 1691, 2449, 1535, 2610, 1543, 1535,...</td>\n",
       "      <td></td>\n",
       "      <td>[2085, 1719, 1846, 1745, 2243, 1553, 1606, 159...</td>\n",
       "    </tr>\n",
       "    <tr>\n",
       "      <th>5</th>\n",
       "      <td>[5396, 16841, 17598, 20375, 11436]</td>\n",
       "      <td>18</td>\n",
       "      <td>[40, 1542, 1691, 3133, 33, 1923, 1650, 1642, 1...</td>\n",
       "      <td>4</td>\n",
       "      <td>[46, 1617, 1667, 3979, 2073, 37, 53, 2080, 154...</td>\n",
       "    </tr>\n",
       "    <tr>\n",
       "      <th>8</th>\n",
       "      <td>[12449, 20348]</td>\n",
       "      <td>18</td>\n",
       "      <td>[46, 4822, 1692, 1553, 3591, 4914, 46, 2421, 6...</td>\n",
       "      <td>9</td>\n",
       "      <td>[3591, 4914, 46, 2421, 1608, 37, 1740, 1825, 1...</td>\n",
       "    </tr>\n",
       "    <tr>\n",
       "      <th>9</th>\n",
       "      <td>[9641, 44, 5623, 2]</td>\n",
       "      <td>18</td>\n",
       "      <td>[1731, 2021, 1543, 11, 1546, 11, 1647, 2163, 1...</td>\n",
       "      <td>0</td>\n",
       "      <td>[1560, 1694, 11, 1546, 11, 3066, 1728, 47, 160...</td>\n",
       "    </tr>\n",
       "    <tr>\n",
       "      <th>13</th>\n",
       "      <td>[3965, 18294]</td>\n",
       "      <td>17</td>\n",
       "      <td>[47, 1548, 2285, 1586, 4541, 2710, 1539, 1535,...</td>\n",
       "      <td>36</td>\n",
       "      <td>[37, 2375, 1568, 1910, 1772, 1543, 1534, 1588,...</td>\n",
       "    </tr>\n",
       "  </tbody>\n",
       "</table>\n",
       "</div>"
      ],
      "text/plain": [
       "                               authors  year  \\\n",
       "2                       [19166, 17763]    17   \n",
       "5   [5396, 16841, 17598, 20375, 11436]    18   \n",
       "8                       [12449, 20348]    18   \n",
       "9                  [9641, 44, 5623, 2]    18   \n",
       "13                       [3965, 18294]    17   \n",
       "\n",
       "                                             abstract venue  \\\n",
       "2   [40, 1542, 1691, 2449, 1535, 2610, 1543, 1535,...         \n",
       "5   [40, 1542, 1691, 3133, 33, 1923, 1650, 1642, 1...     4   \n",
       "8   [46, 4822, 1692, 1553, 3591, 4914, 46, 2421, 6...     9   \n",
       "9   [1731, 2021, 1543, 11, 1546, 11, 1647, 2163, 1...     0   \n",
       "13  [47, 1548, 2285, 1586, 4541, 2710, 1539, 1535,...    36   \n",
       "\n",
       "                                                title  \n",
       "2   [2085, 1719, 1846, 1745, 2243, 1553, 1606, 159...  \n",
       "5   [46, 1617, 1667, 3979, 2073, 37, 53, 2080, 154...  \n",
       "8   [3591, 4914, 46, 2421, 1608, 37, 1740, 1825, 1...  \n",
       "9   [1560, 1694, 11, 1546, 11, 3066, 1728, 47, 160...  \n",
       "13  [37, 2375, 1568, 1910, 1772, 1543, 1534, 1588,...  "
      ]
     },
     "execution_count": 63,
     "metadata": {},
     "output_type": "execute_result"
    }
   ],
   "source": [
    "recent_data = train_data[train_data['year'] >= 16]\n",
    "recent_data.head(5)"
   ]
  },
  {
   "cell_type": "code",
   "execution_count": 64,
   "id": "9d990b91",
   "metadata": {
    "scrolled": false
   },
   "outputs": [
    {
     "data": {
      "text/plain": [
       "(7059, 5)"
      ]
     },
     "execution_count": 64,
     "metadata": {},
     "output_type": "execute_result"
    }
   ],
   "source": [
    "recent_data.shape"
   ]
  },
  {
   "cell_type": "code",
   "execution_count": 69,
   "id": "cdbd870f",
   "metadata": {},
   "outputs": [],
   "source": [
    "from collections import defaultdict\n",
    "def build_counting_dict(all_records):\n",
    "    \"\"\"Build a counting dictionary counting the number of appearances \n",
    "        of authors with each of the prolific author\n",
    "    \n",
    "    Parameters\n",
    "    ----------        \n",
    "    all_records : a pandas dataframe\n",
    "        \n",
    "    -------\n",
    "    Return: a dictionary of dictionaries.\n",
    "    e.g. {prolific_author_id1: its counting dict, prolific_author_id2: {}, ...}\n",
    "    where counting dict is {author_id1: number of appearances, author_id2: number of appearances, ...}\n",
    "    \n",
    "    \"\"\"\n",
    "    counting_dict = defaultdict(lambda: defaultdict(int))\n",
    "    \n",
    "    for index, record in all_records.iterrows():\n",
    "        authors = record[\"authors\"]\n",
    "        prolific_authors = get_prolific_authors(authors)\n",
    "        non_prolific_authors = get_non_prolific_coauthors(authors)\n",
    "        \n",
    "        for prolific_author in prolific_authors:\n",
    "            for non_prolific_author in non_prolific_authors:\n",
    "                counting_dict[prolific_author][non_prolific_author] += 1\n",
    "    \n",
    "    return counting_dict\n",
    "\n",
    "def build_collab_dict(all_records):\n",
    "    \"\"\"Build a counting dictionary counting the number of appearances \n",
    "        with each of the prolific author\n",
    "    \n",
    "    Parameters\n",
    "    ----------        \n",
    "    all_records : a pandas dataframe\n",
    "        \n",
    "    -------\n",
    "    Return: a dictionary of dictionaries.\n",
    "    e.g. {author_id1: its counting dict, author_id2: {}, ...}\n",
    "    where counting dict is {prolific_author_id1: number of appearances, prolific_author_id2: number of appearances, ...}\n",
    "    \n",
    "    \"\"\"\n",
    "    counting_dict = defaultdict(lambda: defaultdict(int))\n",
    "    \n",
    "    for index, record in all_records.iterrows():\n",
    "        authors = record[\"authors\"]\n",
    "        prolific_authors = get_prolific_authors(authors)\n",
    "        non_prolific_authors = get_non_prolific_coauthors(authors)\n",
    "        \n",
    "        for author in authors:\n",
    "            for prolific_author in prolific_authors:\n",
    "                counting_dict[author][prolific_author] += 1\n",
    "    \n",
    "    return counting_dict\n",
    "\n",
    "# def past_prolific_coauthors(author, supporting_dict):\n",
    "#     \"\"\"given a author, give a list of proflic authors collaborated before\n",
    "    \n",
    "#     Parameters\n",
    "#     ----------        \n",
    "#     author : a pandas dataframe\n",
    "#     supporting_dict : supportind dictionary, a collab dict\n",
    "        \n",
    "#     -------\n",
    "#     Return: a list of prolific authors\n",
    "#     \"\"\"\n",
    "#     past_collaborators = []\n",
    "#     prolific_authors = range(100)\n",
    "#     for i in prolific_authors:\n",
    "#         if author in supporting_dict[i].keys():\n",
    "#             past_collaborators.append(i)\n",
    "#     return past_collaborators\n",
    "    "
   ]
  },
  {
   "cell_type": "code",
   "execution_count": 121,
   "id": "4675a534",
   "metadata": {},
   "outputs": [],
   "source": [
    "collab_dict = build_collab_dict(recent_data)"
   ]
  },
  {
   "cell_type": "code",
   "execution_count": 71,
   "id": "b326fd13",
   "metadata": {
    "scrolled": true
   },
   "outputs": [
    {
     "data": {
      "text/plain": [
       "[(0, defaultdict(int, {34: 26, 0: 37, 37: 4, 25: 1, 29: 2})),\n",
       " (1, defaultdict(int, {1: 16, 12: 1, 21: 8, 44: 2})),\n",
       " (2, defaultdict(int, {44: 6, 2: 18, 62: 1}))]"
      ]
     },
     "execution_count": 71,
     "metadata": {},
     "output_type": "execute_result"
    }
   ],
   "source": [
    "sorted(collab_dict.items())[:3]"
   ]
  },
  {
   "cell_type": "code",
   "execution_count": 72,
   "id": "786f17f3",
   "metadata": {},
   "outputs": [
    {
     "data": {
      "text/plain": [
       "[1, 12, 21, 44]"
      ]
     },
     "execution_count": 72,
     "metadata": {},
     "output_type": "execute_result"
    }
   ],
   "source": [
    "past_prolific_coauthors(1, collab_dict)"
   ]
  },
  {
   "cell_type": "code",
   "execution_count": 61,
   "id": "da8f241d",
   "metadata": {},
   "outputs": [],
   "source": [
    "# prepare train, cross, test for recent data, year >= 16"
   ]
  },
  {
   "cell_type": "code",
   "execution_count": 66,
   "id": "f4cc6773",
   "metadata": {},
   "outputs": [],
   "source": [
    "X_train = recent_data.head(5000)\n",
    "X_cross = recent_data.tail(2059)"
   ]
  },
  {
   "cell_type": "code",
   "execution_count": 147,
   "id": "455d674b",
   "metadata": {},
   "outputs": [],
   "source": [
    "all_y_train = list(map(get_prolific_authors, recent_data[\"authors\"].tolist()))\n",
    "y_cross = all_y_train[5000:]\n",
    "y_train = all_y_train[:5000]"
   ]
  },
  {
   "cell_type": "code",
   "execution_count": 148,
   "id": "cb3cbadb",
   "metadata": {},
   "outputs": [
    {
     "data": {
      "text/plain": [
       "7059"
      ]
     },
     "execution_count": 148,
     "metadata": {},
     "output_type": "execute_result"
    }
   ],
   "source": [
    "len(all_y_train)"
   ]
  },
  {
   "cell_type": "code",
   "execution_count": 124,
   "id": "df246a8f",
   "metadata": {},
   "outputs": [
    {
     "data": {
      "text/plain": [
       "[(0, defaultdict(int, {34: 19, 0: 26, 37: 3, 25: 1, 29: 1})),\n",
       " (1, defaultdict(int, {1: 14, 12: 1, 21: 7, 44: 2})),\n",
       " (2, defaultdict(int, {44: 5, 2: 12}))]"
      ]
     },
     "execution_count": 124,
     "metadata": {},
     "output_type": "execute_result"
    }
   ],
   "source": [
    "collab_dict = build_collab_dict(X_train)\n",
    "sorted(collab_dict.items())[:3]"
   ]
  },
  {
   "cell_type": "code",
   "execution_count": 157,
   "id": "0c405e97",
   "metadata": {},
   "outputs": [],
   "source": [
    "def predict(test_record, supporting_dict):\n",
    "    \"\"\"given a test record, predict a list of proflic authors collaborated on this one\n",
    "    \n",
    "    Parameters\n",
    "    ----------        \n",
    "    test_record : a row of a pandas dataframe\n",
    "    supporting_dict : supportind dictionary, a collab dict\n",
    "        \n",
    "    -------\n",
    "    Return: a list of prolific authors\n",
    "    \"\"\"\n",
    "    prolific_authors_before = [] \n",
    "    for coauthor in test_record[\"coauthors\"]:\n",
    "        prolific_authors_before.extend(list(supporting_dict[coauthor].keys()))\n",
    "    return list(set(prolific_authors_before)) # maybe take freq into considerations\n",
    "\n",
    "def get_all_predictions(test_records, supporting_dict):\n",
    "    \"\"\"given test records, predict a list of proflic authors collaborated on this one\n",
    "    \n",
    "    Parameters\n",
    "    ----------        \n",
    "    test_records : a pandas dataframe\n",
    "    supporting_dict : supportind dictionary, a collab dict\n",
    "        \n",
    "    -------\n",
    "    Return: a list of list of prolific authors\n",
    "    \"\"\"\n",
    "    all_results = []\n",
    "    for index, test_record in test_records.iterrows():\n",
    "        all_results.append(predict(test_record, supporting_dict))\n",
    "        \n",
    "    return all_results"
   ]
  },
  {
   "cell_type": "code",
   "execution_count": 112,
   "id": "37d06df3",
   "metadata": {
    "scrolled": true
   },
   "outputs": [
    {
     "name": "stderr",
     "output_type": "stream",
     "text": [
      "/var/folders/q0/1dzll5293fqgv6b_2zc1t3tm0000gn/T/ipykernel_79138/1284710750.py:2: SettingWithCopyWarning: \n",
      "A value is trying to be set on a copy of a slice from a DataFrame.\n",
      "Try using .loc[row_indexer,col_indexer] = value instead\n",
      "\n",
      "See the caveats in the documentation: https://pandas.pydata.org/pandas-docs/stable/user_guide/indexing.html#returning-a-view-versus-a-copy\n",
      "  X_cross[\"coauthors\"] = list(map(get_non_prolific_coauthors, X_cross[\"authors\"].tolist()))\n"
     ]
    },
    {
     "data": {
      "text/html": [
       "<div>\n",
       "<style scoped>\n",
       "    .dataframe tbody tr th:only-of-type {\n",
       "        vertical-align: middle;\n",
       "    }\n",
       "\n",
       "    .dataframe tbody tr th {\n",
       "        vertical-align: top;\n",
       "    }\n",
       "\n",
       "    .dataframe thead th {\n",
       "        text-align: right;\n",
       "    }\n",
       "</style>\n",
       "<table border=\"1\" class=\"dataframe\">\n",
       "  <thead>\n",
       "    <tr style=\"text-align: right;\">\n",
       "      <th></th>\n",
       "      <th>authors</th>\n",
       "      <th>year</th>\n",
       "      <th>abstract</th>\n",
       "      <th>venue</th>\n",
       "      <th>title</th>\n",
       "      <th>coauthors</th>\n",
       "    </tr>\n",
       "  </thead>\n",
       "  <tbody>\n",
       "    <tr>\n",
       "      <th>18127</th>\n",
       "      <td>[10264, 4299, 5986, 7202, 20]</td>\n",
       "      <td>17</td>\n",
       "      <td>[1731, 1895, 3612, 1543, 1529, 4327, 3550, 195...</td>\n",
       "      <td>9</td>\n",
       "      <td>[1527, 1670, 1547, 1560, 3322, 1543, 47, 2062,...</td>\n",
       "      <td>[10264, 4299, 5986, 7202]</td>\n",
       "    </tr>\n",
       "    <tr>\n",
       "      <th>18134</th>\n",
       "      <td>[5100, 3394, 9036, 13708]</td>\n",
       "      <td>17</td>\n",
       "      <td>[1731, 1691, 2405, 1535, 3596, 1543, 2864, 33,...</td>\n",
       "      <td>371</td>\n",
       "      <td>[2035, 2063, 1534, 2085, 1719, 2614, 1553, 153...</td>\n",
       "      <td>[5100, 3394, 9036, 13708]</td>\n",
       "    </tr>\n",
       "    <tr>\n",
       "      <th>18136</th>\n",
       "      <td>[3607, 31]</td>\n",
       "      <td>16</td>\n",
       "      <td>[1731, 3405, 1543, 3758, 1864, 11, 2480, 2289,...</td>\n",
       "      <td>39</td>\n",
       "      <td>[47, 11, 1733, 1545, 1527, 11, 53, 34, 1536, 1...</td>\n",
       "      <td>[3607]</td>\n",
       "    </tr>\n",
       "  </tbody>\n",
       "</table>\n",
       "</div>"
      ],
      "text/plain": [
       "                             authors  year  \\\n",
       "18127  [10264, 4299, 5986, 7202, 20]    17   \n",
       "18134      [5100, 3394, 9036, 13708]    17   \n",
       "18136                     [3607, 31]    16   \n",
       "\n",
       "                                                abstract venue  \\\n",
       "18127  [1731, 1895, 3612, 1543, 1529, 4327, 3550, 195...     9   \n",
       "18134  [1731, 1691, 2405, 1535, 3596, 1543, 2864, 33,...   371   \n",
       "18136  [1731, 3405, 1543, 3758, 1864, 11, 2480, 2289,...    39   \n",
       "\n",
       "                                                   title  \\\n",
       "18127  [1527, 1670, 1547, 1560, 3322, 1543, 47, 2062,...   \n",
       "18134  [2035, 2063, 1534, 2085, 1719, 2614, 1553, 153...   \n",
       "18136  [47, 11, 1733, 1545, 1527, 11, 53, 34, 1536, 1...   \n",
       "\n",
       "                       coauthors  \n",
       "18127  [10264, 4299, 5986, 7202]  \n",
       "18134  [5100, 3394, 9036, 13708]  \n",
       "18136                     [3607]  "
      ]
     },
     "execution_count": 112,
     "metadata": {},
     "output_type": "execute_result"
    }
   ],
   "source": [
    "# prepare coauhotr columns in cross validation data\n",
    "X_cross[\"coauthors\"] = list(map(get_non_prolific_coauthors, X_cross[\"authors\"].tolist()))\n",
    "X_cross.head(3)"
   ]
  },
  {
   "cell_type": "code",
   "execution_count": 131,
   "id": "f4530f90",
   "metadata": {},
   "outputs": [],
   "source": [
    "all_predictions = get_all_predictions(X_cross, collab_dict)"
   ]
  },
  {
   "cell_type": "code",
   "execution_count": 132,
   "id": "8a83db4a",
   "metadata": {
    "scrolled": true
   },
   "outputs": [
    {
     "data": {
      "text/plain": [
       "[[20, 12, 20, 20, 43], [91, 38, 98], [31]]"
      ]
     },
     "execution_count": 132,
     "metadata": {},
     "output_type": "execute_result"
    }
   ],
   "source": [
    "all_predictions[:3]"
   ]
  },
  {
   "cell_type": "code",
   "execution_count": 135,
   "id": "87e6da82",
   "metadata": {
    "scrolled": true
   },
   "outputs": [
    {
     "data": {
      "text/plain": [
       "[0.0,\n",
       " 0.0,\n",
       " 0.0,\n",
       " 0.0,\n",
       " 0.0,\n",
       " 0.0,\n",
       " 0.0,\n",
       " 0.0,\n",
       " 0.0,\n",
       " 0.0,\n",
       " 0.0,\n",
       " 0.0,\n",
       " 1.0,\n",
       " 0.0,\n",
       " 0.0,\n",
       " 0.0,\n",
       " 0.0,\n",
       " 0.0,\n",
       " 0.0,\n",
       " 0.0,\n",
       " 1.0,\n",
       " 0.0,\n",
       " 0.0,\n",
       " 0.0,\n",
       " 0.0,\n",
       " 0.0,\n",
       " 0.0,\n",
       " 0.0,\n",
       " 0.0,\n",
       " 0.0,\n",
       " 0.0,\n",
       " 0.0,\n",
       " 0.0,\n",
       " 0.0,\n",
       " 0.0,\n",
       " 0.0,\n",
       " 0.0,\n",
       " 0.0,\n",
       " 0.0,\n",
       " 0.0,\n",
       " 0.0,\n",
       " 0.0,\n",
       " 0.0,\n",
       " 1.0,\n",
       " 0.0,\n",
       " 0.0,\n",
       " 0.0,\n",
       " 0.0,\n",
       " 0.0,\n",
       " 0.0,\n",
       " 0.0,\n",
       " 0.0,\n",
       " 0.0,\n",
       " 0.0,\n",
       " 0.0,\n",
       " 0.0,\n",
       " 0.0,\n",
       " 0.0,\n",
       " 0.0,\n",
       " 0.0,\n",
       " 0.0,\n",
       " 0.0,\n",
       " 0.0,\n",
       " 0.0,\n",
       " 0.0,\n",
       " 0.0,\n",
       " 0.0,\n",
       " 0.0,\n",
       " 0.0,\n",
       " 0.0,\n",
       " 0.0,\n",
       " 0.0,\n",
       " 0.0,\n",
       " 0.0,\n",
       " 0.0,\n",
       " 0.0,\n",
       " 0.0,\n",
       " 0.0,\n",
       " 0.0,\n",
       " 0.0,\n",
       " 0.0,\n",
       " 0.0,\n",
       " 0.0,\n",
       " 0.0,\n",
       " 0.0,\n",
       " 0.0,\n",
       " 0.0,\n",
       " 0.0,\n",
       " 0.0,\n",
       " 0.0,\n",
       " 0.0,\n",
       " 0.0,\n",
       " 0.0,\n",
       " 0.0,\n",
       " 0.0,\n",
       " 0.0,\n",
       " 0.0,\n",
       " 0.0,\n",
       " 0.0,\n",
       " 0.0]"
      ]
     },
     "execution_count": 135,
     "metadata": {},
     "output_type": "execute_result"
    }
   ],
   "source": [
    "all_multi_hot_predictions = [author_ids_to_multi_hot_list(prediction) for prediction in all_predictions]\n",
    "all_multi_hot_predictions[0]"
   ]
  },
  {
   "cell_type": "code",
   "execution_count": 150,
   "id": "7c0c22af",
   "metadata": {},
   "outputs": [
    {
     "data": {
      "text/plain": [
       "[0.0,\n",
       " 0.0,\n",
       " 0.0,\n",
       " 0.0,\n",
       " 0.0,\n",
       " 0.0,\n",
       " 0.0,\n",
       " 0.0,\n",
       " 0.0,\n",
       " 0.0,\n",
       " 0.0,\n",
       " 0.0,\n",
       " 0.0,\n",
       " 0.0,\n",
       " 0.0,\n",
       " 0.0,\n",
       " 0.0,\n",
       " 0.0,\n",
       " 0.0,\n",
       " 0.0,\n",
       " 1.0,\n",
       " 0.0,\n",
       " 0.0,\n",
       " 0.0,\n",
       " 0.0,\n",
       " 0.0,\n",
       " 0.0,\n",
       " 0.0,\n",
       " 0.0,\n",
       " 0.0,\n",
       " 0.0,\n",
       " 0.0,\n",
       " 0.0,\n",
       " 0.0,\n",
       " 0.0,\n",
       " 0.0,\n",
       " 0.0,\n",
       " 0.0,\n",
       " 0.0,\n",
       " 0.0,\n",
       " 0.0,\n",
       " 0.0,\n",
       " 0.0,\n",
       " 0.0,\n",
       " 0.0,\n",
       " 0.0,\n",
       " 0.0,\n",
       " 0.0,\n",
       " 0.0,\n",
       " 0.0,\n",
       " 0.0,\n",
       " 0.0,\n",
       " 0.0,\n",
       " 0.0,\n",
       " 0.0,\n",
       " 0.0,\n",
       " 0.0,\n",
       " 0.0,\n",
       " 0.0,\n",
       " 0.0,\n",
       " 0.0,\n",
       " 0.0,\n",
       " 0.0,\n",
       " 0.0,\n",
       " 0.0,\n",
       " 0.0,\n",
       " 0.0,\n",
       " 0.0,\n",
       " 0.0,\n",
       " 0.0,\n",
       " 0.0,\n",
       " 0.0,\n",
       " 0.0,\n",
       " 0.0,\n",
       " 0.0,\n",
       " 0.0,\n",
       " 0.0,\n",
       " 0.0,\n",
       " 0.0,\n",
       " 0.0,\n",
       " 0.0,\n",
       " 0.0,\n",
       " 0.0,\n",
       " 0.0,\n",
       " 0.0,\n",
       " 0.0,\n",
       " 0.0,\n",
       " 0.0,\n",
       " 0.0,\n",
       " 0.0,\n",
       " 0.0,\n",
       " 0.0,\n",
       " 0.0,\n",
       " 0.0,\n",
       " 0.0,\n",
       " 0.0,\n",
       " 0.0,\n",
       " 0.0,\n",
       " 0.0,\n",
       " 0.0]"
      ]
     },
     "execution_count": 150,
     "metadata": {},
     "output_type": "execute_result"
    }
   ],
   "source": [
    "true_one_hot_labels = [author_ids_to_multi_hot_list(y) for y in y_cross]\n",
    "true_one_hot_labels[0]"
   ]
  },
  {
   "cell_type": "code",
   "execution_count": 155,
   "id": "00e73ef2",
   "metadata": {},
   "outputs": [
    {
     "data": {
      "text/plain": [
       "0.2731006160164271"
      ]
     },
     "execution_count": 155,
     "metadata": {},
     "output_type": "execute_result"
    }
   ],
   "source": [
    "# criterion = nn.BCELoss()\n",
    "# criterion(input=all_multi_hot_predictions, target=true_one_hot_labels)\n",
    "f1_score(true_one_hot_labels, all_multi_hot_predictions, average='micro')"
   ]
  },
  {
   "cell_type": "code",
   "execution_count": null,
   "id": "d0ab5855",
   "metadata": {},
   "outputs": [],
   "source": []
  },
  {
   "cell_type": "markdown",
   "id": "9bcc8d1d",
   "metadata": {},
   "source": [
    "Try on test data"
   ]
  },
  {
   "cell_type": "code",
   "execution_count": 158,
   "id": "3be39291",
   "metadata": {},
   "outputs": [
    {
     "data": {
      "text/plain": [
       "[92]"
      ]
     },
     "execution_count": 158,
     "metadata": {},
     "output_type": "execute_result"
    }
   ],
   "source": [
    "collab_dict = build_collab_dict(recent_data)\n",
    "all_predictions = get_all_predictions(test_data, collab_dict)\n",
    "all_predictions[0]"
   ]
  },
  {
   "cell_type": "code",
   "execution_count": 161,
   "id": "fa14cc67",
   "metadata": {},
   "outputs": [],
   "source": [
    "def integers_to_csv(test_integers, test_ids):\n",
    "#     test_integers = [ multi_hot_authors_to_integer(pred) for pred in all_test_predictions]\n",
    "    string_integers = list(map(list_of_integers_to_string_format, test_integers))\n",
    "    \n",
    "    header = [\"ID\", \"Predict\"]\n",
    "    test_ids = [str(test_id) for test_id in test_ids]\n",
    "    results = list(zip(test_ids, string_integers))\n",
    "    output = [header] + results\n",
    "    a = np.asarray(output)\n",
    "    np.savetxt(\"explore_authors.csv\", a, delimiter=\",\", fmt='%s')"
   ]
  },
  {
   "cell_type": "code",
   "execution_count": 162,
   "id": "47eacbb9",
   "metadata": {},
   "outputs": [],
   "source": [
    "integers_to_csv(all_predictions, test_data[\"identifier\"].tolist())"
   ]
  },
  {
   "cell_type": "code",
   "execution_count": null,
   "id": "6a502645",
   "metadata": {},
   "outputs": [],
   "source": []
  }
 ],
 "metadata": {
  "kernelspec": {
   "display_name": "Python 3 (ipykernel)",
   "language": "python",
   "name": "python3"
  },
  "language_info": {
   "codemirror_mode": {
    "name": "ipython",
    "version": 3
   },
   "file_extension": ".py",
   "mimetype": "text/x-python",
   "name": "python",
   "nbconvert_exporter": "python",
   "pygments_lexer": "ipython3",
   "version": "3.9.12"
  }
 },
 "nbformat": 4,
 "nbformat_minor": 5
}
